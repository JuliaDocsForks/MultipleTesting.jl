{
 "cells": [
  {
   "cell_type": "markdown",
   "metadata": {},
   "source": [
    "# Comparing estimators for π0"
   ]
  },
  {
   "cell_type": "code",
   "execution_count": 39,
   "metadata": {
    "collapsed": false
   },
   "outputs": [],
   "source": [
    "using MultipleTesting"
   ]
  },
  {
   "cell_type": "code",
   "execution_count": 40,
   "metadata": {
    "collapsed": false
   },
   "outputs": [],
   "source": [
    "using Distributions\n",
    "using DataFrames\n",
    "using Gadfly\n",
    "using Compose"
   ]
  },
  {
   "cell_type": "markdown",
   "metadata": {},
   "source": [
    "## Simulation"
   ]
  },
  {
   "cell_type": "markdown",
   "metadata": {},
   "source": [
    "We will simulate p-values under the null and alternative hypothesis by drawing from random variable distributions. For the null hypothesis, p-values are uniformly distributed in the interval [0,1]; p-values under the alternative hypothesis are modelled by a Beta distribution with a momotonically decreasing density."
   ]
  },
  {
   "cell_type": "code",
   "execution_count": 41,
   "metadata": {
    "collapsed": false
   },
   "outputs": [
    {
     "data": {
      "text/plain": [
       "Distributions.Beta(α=0.5, β=3.0)"
      ]
     },
     "execution_count": 41,
     "metadata": {},
     "output_type": "execute_result"
    }
   ],
   "source": [
    "distr_h0 = Uniform()\n",
    "distr_h1 = Beta(0.5, 3)"
   ]
  },
  {
   "cell_type": "code",
   "execution_count": 42,
   "metadata": {
    "collapsed": false
   },
   "outputs": [],
   "source": [
    "x = linspace(0.001, 1.0, 200)\n",
    "pdf_h0 = pdf(distr_h0, x);\n",
    "pdf_h1 = pdf(distr_h1, x);"
   ]
  },
  {
   "cell_type": "code",
   "execution_count": 43,
   "metadata": {
    "collapsed": false
   },
   "outputs": [
    {
     "data": {
      "image/svg+xml": [
       "<?xml version=\"1.0\" encoding=\"UTF-8\"?>\n",
       "<svg xmlns=\"http://www.w3.org/2000/svg\"\n",
       "     xmlns:xlink=\"http://www.w3.org/1999/xlink\"\n",
       "     xmlns:gadfly=\"http://www.gadflyjl.org/ns\"\n",
       "     version=\"1.2\"\n",
       "     width=\"200mm\" height=\"100mm\" viewBox=\"0 0 200 100\"\n",
       "     stroke=\"none\"\n",
       "     fill=\"#000000\"\n",
       "     stroke-width=\"0.3\"\n",
       "     font-size=\"3.88\"\n",
       ">\n",
       "<g class=\"plotroot xscalable yscalable\" id=\"img-c04f3bd9-1\">\n",
       "  <g font-size=\"3.88\" font-family=\"'PT Sans','Helvetica Neue','Helvetica',sans-serif\" fill=\"#564A55\" stroke=\"#000000\" stroke-opacity=\"0.000\" id=\"img-c04f3bd9-2\">\n",
       "    <text x=\"107.65\" y=\"88.39\" text-anchor=\"middle\" dy=\"0.6em\">p-value</text>\n",
       "  </g>\n",
       "  <g class=\"guide xlabels\" font-size=\"2.82\" font-family=\"'PT Sans Caption','Helvetica Neue','Helvetica',sans-serif\" fill=\"#6C606B\" id=\"img-c04f3bd9-3\">\n",
       "    <text x=\"22.31\" y=\"81.72\" text-anchor=\"middle\" dy=\"0.6em\">0.0</text>\n",
       "    <text x=\"107.65\" y=\"81.72\" text-anchor=\"middle\" dy=\"0.6em\">0.5</text>\n",
       "    <text x=\"193\" y=\"81.72\" text-anchor=\"middle\" dy=\"0.6em\">1.0</text>\n",
       "  </g>\n",
       "<g clip-path=\"url(#img-c04f3bd9-4)\">\n",
       "  <g id=\"img-c04f3bd9-5\">\n",
       "    <g pointer-events=\"visible\" opacity=\"1\" fill=\"#000000\" fill-opacity=\"0.000\" stroke=\"#000000\" stroke-opacity=\"0.000\" class=\"guide background\" id=\"img-c04f3bd9-6\">\n",
       "      <rect x=\"20.31\" y=\"5\" width=\"174.7\" height=\"75.72\"/>\n",
       "    </g>\n",
       "    <g class=\"guide ygridlines xfixed\" stroke-dasharray=\"0.5,0.5\" stroke-width=\"0.2\" stroke=\"#D0D0E0\" id=\"img-c04f3bd9-7\">\n",
       "      <path fill=\"none\" d=\"M20.31,78.71 L 195 78.71\"/>\n",
       "      <path fill=\"none\" d=\"M20.31,54.81 L 195 54.81\"/>\n",
       "      <path fill=\"none\" d=\"M20.31,30.9 L 195 30.9\"/>\n",
       "      <path fill=\"none\" d=\"M20.31,7 L 195 7\"/>\n",
       "    </g>\n",
       "    <g class=\"guide xgridlines yfixed\" stroke-dasharray=\"0.5,0.5\" stroke-width=\"0.2\" stroke=\"#D0D0E0\" id=\"img-c04f3bd9-8\">\n",
       "      <path fill=\"none\" d=\"M22.31,5 L 22.31 80.72\"/>\n",
       "      <path fill=\"none\" d=\"M107.65,5 L 107.65 80.72\"/>\n",
       "      <path fill=\"none\" d=\"M193,5 L 193 80.72\"/>\n",
       "    </g>\n",
       "    <g class=\"plotpanel\" id=\"img-c04f3bd9-9\">\n",
       "      <g stroke-width=\"0.3\" fill=\"#000000\" fill-opacity=\"0.000\" class=\"geometry\" stroke-dasharray=\"none\" stroke=\"#8B0000\" id=\"img-c04f3bd9-10\">\n",
       "        <path fill=\"none\" d=\"M22.48,10.15 L 23.33 51.05 24.19 58.49 25.05 62.12 25.9 64.38 26.76 65.96 27.62 67.15 28.47 68.1 29.33 68.87 30.19 69.52 31.04 70.07 31.9 70.55 32.76 70.98 33.62 71.36 34.47 71.7 35.33 72 36.19 72.28 37.04 72.54 37.9 72.78 38.76 73 39.61 73.21 40.47 73.4 41.33 73.58 42.18 73.75 43.04 73.9 43.9 74.05 44.76 74.2 45.61 74.33 46.47 74.46 47.33 74.58 48.18 74.7 49.04 74.81 49.9 74.92 50.75 75.02 51.61 75.12 52.47 75.21 53.32 75.3 54.18 75.39 55.04 75.47 55.9 75.56 56.75 75.63 57.61 75.71 58.47 75.78 59.32 75.85 60.18 75.92 61.04 75.99 61.89 76.05 62.75 76.12 63.61 76.18 64.46 76.24 65.32 76.29 66.18 76.35 67.03 76.4 67.89 76.46 68.75 76.51 69.61 76.56 70.46 76.61 71.32 76.65 72.18 76.7 73.03 76.75 73.89 76.79 74.75 76.83 75.6 76.88 76.46 76.92 77.32 76.96 78.17 77 79.03 77.03 79.89 77.07 80.75 77.11 81.6 77.15 82.46 77.18 83.32 77.21 84.17 77.25 85.03 77.28 85.89 77.31 86.74 77.34 87.6 77.38 88.46 77.41 89.31 77.44 90.17 77.46 91.03 77.49 91.89 77.52 92.74 77.55 93.6 77.57 94.46 77.6 95.31 77.63 96.17 77.65 97.03 77.68 97.88 77.7 98.74 77.72 99.6 77.75 100.45 77.77 101.31 77.79 102.17 77.82 103.02 77.84 103.88 77.86 104.74 77.88 105.6 77.9 106.45 77.92 107.31 77.94 108.17 77.96 109.02 77.98 109.88 78 110.74 78.01 111.59 78.03 112.45 78.05 113.31 78.07 114.16 78.08 115.02 78.1 115.88 78.12 116.74 78.13 117.59 78.15 118.45 78.16 119.31 78.18 120.16 78.19 121.02 78.21 121.88 78.22 122.73 78.24 123.59 78.25 124.45 78.26 125.3 78.28 126.16 78.29 127.02 78.3 127.88 78.31 128.73 78.32 129.59 78.34 130.45 78.35 131.3 78.36 132.16 78.37 133.02 78.38 133.87 78.39 134.73 78.4 135.59 78.41 136.44 78.42 137.3 78.43 138.16 78.44 139.01 78.45 139.87 78.46 140.73 78.47 141.59 78.48 142.44 78.49 143.3 78.5 144.16 78.5 145.01 78.51 145.87 78.52 146.73 78.53 147.58 78.54 148.44 78.54 149.3 78.55 150.15 78.56 151.01 78.56 151.87 78.57 152.73 78.58 153.58 78.58 154.44 78.59 155.3 78.59 156.15 78.6 157.01 78.61 157.87 78.61 158.72 78.62 159.58 78.62 160.44 78.63 161.29 78.63 162.15 78.64 163.01 78.64 163.87 78.65 164.72 78.65 165.58 78.65 166.44 78.66 167.29 78.66 168.15 78.67 169.01 78.67 169.86 78.67 170.72 78.68 171.58 78.68 172.43 78.68 173.29 78.68 174.15 78.69 175 78.69 175.86 78.69 176.72 78.69 177.58 78.7 178.43 78.7 179.29 78.7 180.15 78.7 181 78.7 181.86 78.71 182.72 78.71 183.57 78.71 184.43 78.71 185.29 78.71 186.14 78.71 187 78.71 187.86 78.71 188.72 78.71 189.57 78.71 190.43 78.71 191.29 78.71 192.14 78.71 193 78.71\"/>\n",
       "      </g>\n",
       "      <g stroke-width=\"0.3\" fill=\"#000000\" fill-opacity=\"0.000\" class=\"geometry\" stroke-dasharray=\"none\" stroke=\"#00BFFF\" id=\"img-c04f3bd9-11\">\n",
       "        <path fill=\"none\" d=\"M22.48,76.32 L 23.33 76.32 24.19 76.32 25.05 76.32 25.9 76.32 26.76 76.32 27.62 76.32 28.47 76.32 29.33 76.32 30.19 76.32 31.04 76.32 31.9 76.32 32.76 76.32 33.62 76.32 34.47 76.32 35.33 76.32 36.19 76.32 37.04 76.32 37.9 76.32 38.76 76.32 39.61 76.32 40.47 76.32 41.33 76.32 42.18 76.32 43.04 76.32 43.9 76.32 44.76 76.32 45.61 76.32 46.47 76.32 47.33 76.32 48.18 76.32 49.04 76.32 49.9 76.32 50.75 76.32 51.61 76.32 52.47 76.32 53.32 76.32 54.18 76.32 55.04 76.32 55.9 76.32 56.75 76.32 57.61 76.32 58.47 76.32 59.32 76.32 60.18 76.32 61.04 76.32 61.89 76.32 62.75 76.32 63.61 76.32 64.46 76.32 65.32 76.32 66.18 76.32 67.03 76.32 67.89 76.32 68.75 76.32 69.61 76.32 70.46 76.32 71.32 76.32 72.18 76.32 73.03 76.32 73.89 76.32 74.75 76.32 75.6 76.32 76.46 76.32 77.32 76.32 78.17 76.32 79.03 76.32 79.89 76.32 80.75 76.32 81.6 76.32 82.46 76.32 83.32 76.32 84.17 76.32 85.03 76.32 85.89 76.32 86.74 76.32 87.6 76.32 88.46 76.32 89.31 76.32 90.17 76.32 91.03 76.32 91.89 76.32 92.74 76.32 93.6 76.32 94.46 76.32 95.31 76.32 96.17 76.32 97.03 76.32 97.88 76.32 98.74 76.32 99.6 76.32 100.45 76.32 101.31 76.32 102.17 76.32 103.02 76.32 103.88 76.32 104.74 76.32 105.6 76.32 106.45 76.32 107.31 76.32 108.17 76.32 109.02 76.32 109.88 76.32 110.74 76.32 111.59 76.32 112.45 76.32 113.31 76.32 114.16 76.32 115.02 76.32 115.88 76.32 116.74 76.32 117.59 76.32 118.45 76.32 119.31 76.32 120.16 76.32 121.02 76.32 121.88 76.32 122.73 76.32 123.59 76.32 124.45 76.32 125.3 76.32 126.16 76.32 127.02 76.32 127.88 76.32 128.73 76.32 129.59 76.32 130.45 76.32 131.3 76.32 132.16 76.32 133.02 76.32 133.87 76.32 134.73 76.32 135.59 76.32 136.44 76.32 137.3 76.32 138.16 76.32 139.01 76.32 139.87 76.32 140.73 76.32 141.59 76.32 142.44 76.32 143.3 76.32 144.16 76.32 145.01 76.32 145.87 76.32 146.73 76.32 147.58 76.32 148.44 76.32 149.3 76.32 150.15 76.32 151.01 76.32 151.87 76.32 152.73 76.32 153.58 76.32 154.44 76.32 155.3 76.32 156.15 76.32 157.01 76.32 157.87 76.32 158.72 76.32 159.58 76.32 160.44 76.32 161.29 76.32 162.15 76.32 163.01 76.32 163.87 76.32 164.72 76.32 165.58 76.32 166.44 76.32 167.29 76.32 168.15 76.32 169.01 76.32 169.86 76.32 170.72 76.32 171.58 76.32 172.43 76.32 173.29 76.32 174.15 76.32 175 76.32 175.86 76.32 176.72 76.32 177.58 76.32 178.43 76.32 179.29 76.32 180.15 76.32 181 76.32 181.86 76.32 182.72 76.32 183.57 76.32 184.43 76.32 185.29 76.32 186.14 76.32 187 76.32 187.86 76.32 188.72 76.32 189.57 76.32 190.43 76.32 191.29 76.32 192.14 76.32 193 76.32\"/>\n",
       "      </g>\n",
       "    </g>\n",
       "  </g>\n",
       "</g>\n",
       "  <g class=\"guide ylabels\" font-size=\"2.82\" font-family=\"'PT Sans Caption','Helvetica Neue','Helvetica',sans-serif\" fill=\"#6C606B\" id=\"img-c04f3bd9-12\">\n",
       "    <text x=\"19.3\" y=\"78.71\" text-anchor=\"end\" dy=\"0.35em\">0.00</text>\n",
       "    <text x=\"19.3\" y=\"54.81\" text-anchor=\"end\" dy=\"0.35em\">0.05</text>\n",
       "    <text x=\"19.3\" y=\"30.9\" text-anchor=\"end\" dy=\"0.35em\">0.10</text>\n",
       "    <text x=\"19.3\" y=\"7\" text-anchor=\"end\" dy=\"0.35em\">0.15</text>\n",
       "  </g>\n",
       "  <g font-size=\"3.88\" font-family=\"'PT Sans','Helvetica Neue','Helvetica',sans-serif\" fill=\"#564A55\" stroke=\"#000000\" stroke-opacity=\"0.000\" id=\"img-c04f3bd9-13\">\n",
       "    <text x=\"8.81\" y=\"40.86\" text-anchor=\"middle\" dy=\"0.35em\" transform=\"rotate(-90, 8.81, 42.86)\">density</text>\n",
       "  </g>\n",
       "</g>\n",
       "<defs>\n",
       "  <clipPath id=\"img-c04f3bd9-4\">\n",
       "  <path d=\"M20.31,5 L 195 5 195 80.72 20.31 80.72\" />\n",
       "</clipPath>\n",
       "</defs>\n",
       "</svg>\n"
      ],
      "text/html": [
       "<?xml version=\"1.0\" encoding=\"UTF-8\"?>\n",
       "<svg xmlns=\"http://www.w3.org/2000/svg\"\n",
       "     xmlns:xlink=\"http://www.w3.org/1999/xlink\"\n",
       "     xmlns:gadfly=\"http://www.gadflyjl.org/ns\"\n",
       "     version=\"1.2\"\n",
       "     width=\"200mm\" height=\"100mm\" viewBox=\"0 0 200 100\"\n",
       "     stroke=\"none\"\n",
       "     fill=\"#000000\"\n",
       "     stroke-width=\"0.3\"\n",
       "     font-size=\"3.88\"\n",
       ">\n",
       "<g class=\"plotroot xscalable yscalable\" id=\"img-c04f3bd9-1\">\n",
       "  <g font-size=\"3.88\" font-family=\"'PT Sans','Helvetica Neue','Helvetica',sans-serif\" fill=\"#564A55\" stroke=\"#000000\" stroke-opacity=\"0.000\" id=\"img-c04f3bd9-2\">\n",
       "    <text x=\"107.65\" y=\"88.39\" text-anchor=\"middle\" dy=\"0.6em\">p-value</text>\n",
       "  </g>\n",
       "  <g class=\"guide xlabels\" font-size=\"2.82\" font-family=\"'PT Sans Caption','Helvetica Neue','Helvetica',sans-serif\" fill=\"#6C606B\" id=\"img-c04f3bd9-3\">\n",
       "    <text x=\"22.31\" y=\"81.72\" text-anchor=\"middle\" dy=\"0.6em\">0.0</text>\n",
       "    <text x=\"107.65\" y=\"81.72\" text-anchor=\"middle\" dy=\"0.6em\">0.5</text>\n",
       "    <text x=\"193\" y=\"81.72\" text-anchor=\"middle\" dy=\"0.6em\">1.0</text>\n",
       "  </g>\n",
       "<g clip-path=\"url(#img-c04f3bd9-4)\">\n",
       "  <g id=\"img-c04f3bd9-5\">\n",
       "    <g pointer-events=\"visible\" opacity=\"1\" fill=\"#000000\" fill-opacity=\"0.000\" stroke=\"#000000\" stroke-opacity=\"0.000\" class=\"guide background\" id=\"img-c04f3bd9-6\">\n",
       "      <rect x=\"20.31\" y=\"5\" width=\"174.7\" height=\"75.72\"/>\n",
       "    </g>\n",
       "    <g class=\"guide ygridlines xfixed\" stroke-dasharray=\"0.5,0.5\" stroke-width=\"0.2\" stroke=\"#D0D0E0\" id=\"img-c04f3bd9-7\">\n",
       "      <path fill=\"none\" d=\"M20.31,78.71 L 195 78.71\"/>\n",
       "      <path fill=\"none\" d=\"M20.31,54.81 L 195 54.81\"/>\n",
       "      <path fill=\"none\" d=\"M20.31,30.9 L 195 30.9\"/>\n",
       "      <path fill=\"none\" d=\"M20.31,7 L 195 7\"/>\n",
       "    </g>\n",
       "    <g class=\"guide xgridlines yfixed\" stroke-dasharray=\"0.5,0.5\" stroke-width=\"0.2\" stroke=\"#D0D0E0\" id=\"img-c04f3bd9-8\">\n",
       "      <path fill=\"none\" d=\"M22.31,5 L 22.31 80.72\"/>\n",
       "      <path fill=\"none\" d=\"M107.65,5 L 107.65 80.72\"/>\n",
       "      <path fill=\"none\" d=\"M193,5 L 193 80.72\"/>\n",
       "    </g>\n",
       "    <g class=\"plotpanel\" id=\"img-c04f3bd9-9\">\n",
       "      <g stroke-width=\"0.3\" fill=\"#000000\" fill-opacity=\"0.000\" class=\"geometry\" stroke-dasharray=\"none\" stroke=\"#8B0000\" id=\"img-c04f3bd9-10\">\n",
       "        <path fill=\"none\" d=\"M22.48,10.15 L 23.33 51.05 24.19 58.49 25.05 62.12 25.9 64.38 26.76 65.96 27.62 67.15 28.47 68.1 29.33 68.87 30.19 69.52 31.04 70.07 31.9 70.55 32.76 70.98 33.62 71.36 34.47 71.7 35.33 72 36.19 72.28 37.04 72.54 37.9 72.78 38.76 73 39.61 73.21 40.47 73.4 41.33 73.58 42.18 73.75 43.04 73.9 43.9 74.05 44.76 74.2 45.61 74.33 46.47 74.46 47.33 74.58 48.18 74.7 49.04 74.81 49.9 74.92 50.75 75.02 51.61 75.12 52.47 75.21 53.32 75.3 54.18 75.39 55.04 75.47 55.9 75.56 56.75 75.63 57.61 75.71 58.47 75.78 59.32 75.85 60.18 75.92 61.04 75.99 61.89 76.05 62.75 76.12 63.61 76.18 64.46 76.24 65.32 76.29 66.18 76.35 67.03 76.4 67.89 76.46 68.75 76.51 69.61 76.56 70.46 76.61 71.32 76.65 72.18 76.7 73.03 76.75 73.89 76.79 74.75 76.83 75.6 76.88 76.46 76.92 77.32 76.96 78.17 77 79.03 77.03 79.89 77.07 80.75 77.11 81.6 77.15 82.46 77.18 83.32 77.21 84.17 77.25 85.03 77.28 85.89 77.31 86.74 77.34 87.6 77.38 88.46 77.41 89.31 77.44 90.17 77.46 91.03 77.49 91.89 77.52 92.74 77.55 93.6 77.57 94.46 77.6 95.31 77.63 96.17 77.65 97.03 77.68 97.88 77.7 98.74 77.72 99.6 77.75 100.45 77.77 101.31 77.79 102.17 77.82 103.02 77.84 103.88 77.86 104.74 77.88 105.6 77.9 106.45 77.92 107.31 77.94 108.17 77.96 109.02 77.98 109.88 78 110.74 78.01 111.59 78.03 112.45 78.05 113.31 78.07 114.16 78.08 115.02 78.1 115.88 78.12 116.74 78.13 117.59 78.15 118.45 78.16 119.31 78.18 120.16 78.19 121.02 78.21 121.88 78.22 122.73 78.24 123.59 78.25 124.45 78.26 125.3 78.28 126.16 78.29 127.02 78.3 127.88 78.31 128.73 78.32 129.59 78.34 130.45 78.35 131.3 78.36 132.16 78.37 133.02 78.38 133.87 78.39 134.73 78.4 135.59 78.41 136.44 78.42 137.3 78.43 138.16 78.44 139.01 78.45 139.87 78.46 140.73 78.47 141.59 78.48 142.44 78.49 143.3 78.5 144.16 78.5 145.01 78.51 145.87 78.52 146.73 78.53 147.58 78.54 148.44 78.54 149.3 78.55 150.15 78.56 151.01 78.56 151.87 78.57 152.73 78.58 153.58 78.58 154.44 78.59 155.3 78.59 156.15 78.6 157.01 78.61 157.87 78.61 158.72 78.62 159.58 78.62 160.44 78.63 161.29 78.63 162.15 78.64 163.01 78.64 163.87 78.65 164.72 78.65 165.58 78.65 166.44 78.66 167.29 78.66 168.15 78.67 169.01 78.67 169.86 78.67 170.72 78.68 171.58 78.68 172.43 78.68 173.29 78.68 174.15 78.69 175 78.69 175.86 78.69 176.72 78.69 177.58 78.7 178.43 78.7 179.29 78.7 180.15 78.7 181 78.7 181.86 78.71 182.72 78.71 183.57 78.71 184.43 78.71 185.29 78.71 186.14 78.71 187 78.71 187.86 78.71 188.72 78.71 189.57 78.71 190.43 78.71 191.29 78.71 192.14 78.71 193 78.71\"/>\n",
       "      </g>\n",
       "      <g stroke-width=\"0.3\" fill=\"#000000\" fill-opacity=\"0.000\" class=\"geometry\" stroke-dasharray=\"none\" stroke=\"#00BFFF\" id=\"img-c04f3bd9-11\">\n",
       "        <path fill=\"none\" d=\"M22.48,76.32 L 23.33 76.32 24.19 76.32 25.05 76.32 25.9 76.32 26.76 76.32 27.62 76.32 28.47 76.32 29.33 76.32 30.19 76.32 31.04 76.32 31.9 76.32 32.76 76.32 33.62 76.32 34.47 76.32 35.33 76.32 36.19 76.32 37.04 76.32 37.9 76.32 38.76 76.32 39.61 76.32 40.47 76.32 41.33 76.32 42.18 76.32 43.04 76.32 43.9 76.32 44.76 76.32 45.61 76.32 46.47 76.32 47.33 76.32 48.18 76.32 49.04 76.32 49.9 76.32 50.75 76.32 51.61 76.32 52.47 76.32 53.32 76.32 54.18 76.32 55.04 76.32 55.9 76.32 56.75 76.32 57.61 76.32 58.47 76.32 59.32 76.32 60.18 76.32 61.04 76.32 61.89 76.32 62.75 76.32 63.61 76.32 64.46 76.32 65.32 76.32 66.18 76.32 67.03 76.32 67.89 76.32 68.75 76.32 69.61 76.32 70.46 76.32 71.32 76.32 72.18 76.32 73.03 76.32 73.89 76.32 74.75 76.32 75.6 76.32 76.46 76.32 77.32 76.32 78.17 76.32 79.03 76.32 79.89 76.32 80.75 76.32 81.6 76.32 82.46 76.32 83.32 76.32 84.17 76.32 85.03 76.32 85.89 76.32 86.74 76.32 87.6 76.32 88.46 76.32 89.31 76.32 90.17 76.32 91.03 76.32 91.89 76.32 92.74 76.32 93.6 76.32 94.46 76.32 95.31 76.32 96.17 76.32 97.03 76.32 97.88 76.32 98.74 76.32 99.6 76.32 100.45 76.32 101.31 76.32 102.17 76.32 103.02 76.32 103.88 76.32 104.74 76.32 105.6 76.32 106.45 76.32 107.31 76.32 108.17 76.32 109.02 76.32 109.88 76.32 110.74 76.32 111.59 76.32 112.45 76.32 113.31 76.32 114.16 76.32 115.02 76.32 115.88 76.32 116.74 76.32 117.59 76.32 118.45 76.32 119.31 76.32 120.16 76.32 121.02 76.32 121.88 76.32 122.73 76.32 123.59 76.32 124.45 76.32 125.3 76.32 126.16 76.32 127.02 76.32 127.88 76.32 128.73 76.32 129.59 76.32 130.45 76.32 131.3 76.32 132.16 76.32 133.02 76.32 133.87 76.32 134.73 76.32 135.59 76.32 136.44 76.32 137.3 76.32 138.16 76.32 139.01 76.32 139.87 76.32 140.73 76.32 141.59 76.32 142.44 76.32 143.3 76.32 144.16 76.32 145.01 76.32 145.87 76.32 146.73 76.32 147.58 76.32 148.44 76.32 149.3 76.32 150.15 76.32 151.01 76.32 151.87 76.32 152.73 76.32 153.58 76.32 154.44 76.32 155.3 76.32 156.15 76.32 157.01 76.32 157.87 76.32 158.72 76.32 159.58 76.32 160.44 76.32 161.29 76.32 162.15 76.32 163.01 76.32 163.87 76.32 164.72 76.32 165.58 76.32 166.44 76.32 167.29 76.32 168.15 76.32 169.01 76.32 169.86 76.32 170.72 76.32 171.58 76.32 172.43 76.32 173.29 76.32 174.15 76.32 175 76.32 175.86 76.32 176.72 76.32 177.58 76.32 178.43 76.32 179.29 76.32 180.15 76.32 181 76.32 181.86 76.32 182.72 76.32 183.57 76.32 184.43 76.32 185.29 76.32 186.14 76.32 187 76.32 187.86 76.32 188.72 76.32 189.57 76.32 190.43 76.32 191.29 76.32 192.14 76.32 193 76.32\"/>\n",
       "      </g>\n",
       "    </g>\n",
       "  </g>\n",
       "</g>\n",
       "  <g class=\"guide ylabels\" font-size=\"2.82\" font-family=\"'PT Sans Caption','Helvetica Neue','Helvetica',sans-serif\" fill=\"#6C606B\" id=\"img-c04f3bd9-12\">\n",
       "    <text x=\"19.3\" y=\"78.71\" text-anchor=\"end\" dy=\"0.35em\">0.00</text>\n",
       "    <text x=\"19.3\" y=\"54.81\" text-anchor=\"end\" dy=\"0.35em\">0.05</text>\n",
       "    <text x=\"19.3\" y=\"30.9\" text-anchor=\"end\" dy=\"0.35em\">0.10</text>\n",
       "    <text x=\"19.3\" y=\"7\" text-anchor=\"end\" dy=\"0.35em\">0.15</text>\n",
       "  </g>\n",
       "  <g font-size=\"3.88\" font-family=\"'PT Sans','Helvetica Neue','Helvetica',sans-serif\" fill=\"#564A55\" stroke=\"#000000\" stroke-opacity=\"0.000\" id=\"img-c04f3bd9-13\">\n",
       "    <text x=\"8.81\" y=\"40.86\" text-anchor=\"middle\" dy=\"0.35em\" transform=\"rotate(-90, 8.81, 42.86)\">density</text>\n",
       "  </g>\n",
       "</g>\n",
       "<defs>\n",
       "  <clipPath id=\"img-c04f3bd9-4\">\n",
       "  <path d=\"M20.31,5 L 195 5 195 80.72 20.31 80.72\" />\n",
       "</clipPath>\n",
       "</defs>\n",
       "</svg>\n"
      ],
      "text/plain": [
       "Compose.SVG(200.0mm,100.0mm,IOBuffer(data=UInt8[...], readable=true, writable=true, seekable=true, append=false, size=8168, maxsize=Inf, ptr=8169, mark=-1),nothing,\"img-c04f3bd9\",0,Compose.SVGPropertyFrame[],Dict{Type{T},Union{Compose.Property{P<:Compose.PropertyPrimitive},Void}}(),Dict{Compose.ClipPrimitive{P<:NTuple{N,Measures.Measure}},ASCIIString}(Compose.ClipPrimitive{Tuple{Measures.Length{:mm,Float64},Measures.Length{:mm,Float64}}}([(20.305000000000007mm,5.0mm),(195.0mm,5.0mm),(195.0mm,80.715mm),(20.305000000000007mm,80.715mm)])=>\"img-c04f3bd9-4\"),Tuple{Compose.FormPrimitive,ASCIIString}[],Set{AbstractString}(),true,false,nothing,true,\"img-c04f3bd9-13\",false,13,AbstractString[\"/home/julian/.julia/v0.4/Gadfly/src/gadfly.js\"],Tuple{AbstractString,AbstractString}[(\"Snap.svg\",\"Snap\"),(\"Gadfly\",\"Gadfly\")],AbstractString[\"fig.select(\\\"#img-c04f3bd9-5\\\")\\n   .init_gadfly();\"],false,:none)"
      ]
     },
     "metadata": {},
     "output_type": "display_data"
    }
   ],
   "source": [
    "p = plot(\n",
    "    layer(x = x, y = pdf_h0/sum(pdf_h0), Geom.line),\n",
    "    layer(x = x, y = pdf_h1/sum(pdf_h1), Geom.line, Theme(default_color = colorant\"darkred\")),\n",
    "    Guide.xlabel(\"p-value\"), Guide.ylabel(\"density\")\n",
    ")\n",
    "draw(SVG(20cm, 10cm), p)"
   ]
  },
  {
   "cell_type": "code",
   "execution_count": 44,
   "metadata": {
    "collapsed": false
   },
   "outputs": [
    {
     "data": {
      "text/plain": [
       "simulate_mixed_pvalues (generic function with 1 method)"
      ]
     },
     "execution_count": 44,
     "metadata": {},
     "output_type": "execute_result"
    }
   ],
   "source": [
    "simulate_mixed_pvalues(d1, n1, d2, n2) = [rand(d1, n1); rand(d2, n2)]"
   ]
  },
  {
   "cell_type": "markdown",
   "metadata": {},
   "source": [
    "## Assessment of π0 estimators"
   ]
  },
  {
   "cell_type": "markdown",
   "metadata": {},
   "source": [
    "We assess the performance of three estimators for π0, the fraction of tests under the null hypothesis. Here, we compare different estimators. Using the mixture model from above, we simulate p-values with a true π0 of 0.8, i.e. 20% of the p-values come from the alternative model."
   ]
  },
  {
   "cell_type": "code",
   "execution_count": 45,
   "metadata": {
    "collapsed": true
   },
   "outputs": [],
   "source": [
    "estimators = [Storey, StoreyBootstrap, LeastSlope, RightBoundary, CensoredBUM];"
   ]
  },
  {
   "cell_type": "code",
   "execution_count": 46,
   "metadata": {
    "collapsed": false
   },
   "outputs": [
    {
     "data": {
      "text/plain": [
       "500"
      ]
     },
     "execution_count": 46,
     "metadata": {},
     "output_type": "execute_result"
    }
   ],
   "source": [
    "n0 = 400\n",
    "n1 = 100\n",
    "pi0 = n0/(n0+n1)\n",
    "m = 500"
   ]
  },
  {
   "cell_type": "code",
   "execution_count": 47,
   "metadata": {
    "collapsed": false
   },
   "outputs": [],
   "source": [
    "pi0hat = zeros(m, length(estimators))\n",
    "for i in 1:m\n",
    "    p = simulate_mixed_pvalues(distr_h0, n0, distr_h1, n1)\n",
    "    for (j, e) in enumerate(estimators)\n",
    "        pi0hat[i,j] = estimate_pi0(p, e())\n",
    "    end\n",
    "end"
   ]
  },
  {
   "cell_type": "code",
   "execution_count": 48,
   "metadata": {
    "collapsed": false
   },
   "outputs": [],
   "source": [
    "df = convert(DataFrame, pi0hat)\n",
    "names!(df, map(x -> symbol(split(string(x), '.')[2]), estimators))\n",
    "df = stack(df, collect(1:length(estimators)))\n",
    "names!(df, [:estimator, :pi0hat])\n",
    "df = df[!isnan(df[:,:pi0hat]),:];"
   ]
  },
  {
   "cell_type": "code",
   "execution_count": 49,
   "metadata": {
    "collapsed": false
   },
   "outputs": [
    {
     "data": {
      "image/svg+xml": [
       "<?xml version=\"1.0\" encoding=\"UTF-8\"?>\n",
       "<svg xmlns=\"http://www.w3.org/2000/svg\"\n",
       "     xmlns:xlink=\"http://www.w3.org/1999/xlink\"\n",
       "     xmlns:gadfly=\"http://www.gadflyjl.org/ns\"\n",
       "     version=\"1.2\"\n",
       "     width=\"200mm\" height=\"100mm\" viewBox=\"0 0 200 100\"\n",
       "     stroke=\"none\"\n",
       "     fill=\"#000000\"\n",
       "     stroke-width=\"0.3\"\n",
       "     font-size=\"3.88\"\n",
       ">\n",
       "<g class=\"plotroot yscalable\" id=\"img-9ddeccae-1\">\n",
       "  <g font-size=\"3.88\" font-family=\"'PT Sans','Helvetica Neue','Helvetica',sans-serif\" fill=\"#564A55\" stroke=\"#000000\" stroke-opacity=\"0.000\" id=\"img-9ddeccae-2\">\n",
       "    <text x=\"95.24\" y=\"88.39\" text-anchor=\"middle\" dy=\"0.6em\">estimator</text>\n",
       "  </g>\n",
       "  <g class=\"guide xlabels\" font-size=\"2.82\" font-family=\"'PT Sans Caption','Helvetica Neue','Helvetica',sans-serif\" fill=\"#6C606B\" id=\"img-9ddeccae-3\">\n",
       "    <text x=\"33.95\" y=\"81.72\" text-anchor=\"middle\" dy=\"0.6em\">Storey</text>\n",
       "    <text x=\"64.59\" y=\"81.72\" text-anchor=\"middle\" dy=\"0.6em\">StoreyBootstrap</text>\n",
       "    <text x=\"95.24\" y=\"81.72\" text-anchor=\"middle\" dy=\"0.6em\">LeastSlope</text>\n",
       "    <text x=\"125.88\" y=\"81.72\" text-anchor=\"middle\" dy=\"0.6em\">RightBoundary</text>\n",
       "    <text x=\"156.52\" y=\"81.72\" text-anchor=\"middle\" dy=\"0.6em\">CensoredBUM</text>\n",
       "  </g>\n",
       "  <g class=\"guide colorkey\" id=\"img-9ddeccae-4\">\n",
       "    <g fill=\"#4C404B\" font-size=\"2.82\" font-family=\"'PT Sans','Helvetica Neue','Helvetica',sans-serif\" id=\"img-9ddeccae-5\">\n",
       "      <text x=\"175.65\" y=\"37.42\" dy=\"0.35em\" id=\"img-9ddeccae-6\" class=\"color_Storey\">Storey</text>\n",
       "      <text x=\"175.65\" y=\"41.04\" dy=\"0.35em\" id=\"img-9ddeccae-7\" class=\"color_StoreyBootstrap\">StoreyBootstrap</text>\n",
       "      <text x=\"175.65\" y=\"44.67\" dy=\"0.35em\" id=\"img-9ddeccae-8\" class=\"color_LeastSlope\">LeastSlope</text>\n",
       "      <text x=\"175.65\" y=\"48.3\" dy=\"0.35em\" id=\"img-9ddeccae-9\" class=\"color_RightBoundary\">RightBoundary</text>\n",
       "      <text x=\"175.65\" y=\"51.92\" dy=\"0.35em\" id=\"img-9ddeccae-10\" class=\"color_CensoredBUM\">CensoredBUM</text>\n",
       "    </g>\n",
       "    <g stroke=\"#000000\" stroke-opacity=\"0.000\" id=\"img-9ddeccae-11\">\n",
       "      <rect x=\"172.84\" y=\"36.51\" width=\"1.81\" height=\"1.81\" id=\"img-9ddeccae-12\" fill=\"#00BFFF\" class=\"color_Storey\"/>\n",
       "      <rect x=\"172.84\" y=\"40.14\" width=\"1.81\" height=\"1.81\" id=\"img-9ddeccae-13\" fill=\"#D4CA3A\" class=\"color_StoreyBootstrap\"/>\n",
       "      <rect x=\"172.84\" y=\"43.76\" width=\"1.81\" height=\"1.81\" id=\"img-9ddeccae-14\" fill=\"#FF5EA0\" class=\"color_LeastSlope\"/>\n",
       "      <rect x=\"172.84\" y=\"47.39\" width=\"1.81\" height=\"1.81\" id=\"img-9ddeccae-15\" fill=\"#00E5B2\" class=\"color_RightBoundary\"/>\n",
       "      <rect x=\"172.84\" y=\"51.02\" width=\"1.81\" height=\"1.81\" id=\"img-9ddeccae-16\" fill=\"#F6A6FF\" class=\"color_CensoredBUM\"/>\n",
       "    </g>\n",
       "    <g fill=\"#362A35\" font-size=\"3.88\" font-family=\"'PT Sans','Helvetica Neue','Helvetica',sans-serif\" stroke=\"#000000\" stroke-opacity=\"0.000\" id=\"img-9ddeccae-17\">\n",
       "      <text x=\"172.84\" y=\"33.6\" id=\"img-9ddeccae-18\">estimator</text>\n",
       "    </g>\n",
       "  </g>\n",
       "<g clip-path=\"url(#img-9ddeccae-19)\">\n",
       "  <g id=\"img-9ddeccae-20\">\n",
       "    <g pointer-events=\"visible\" opacity=\"1\" fill=\"#000000\" fill-opacity=\"0.000\" stroke=\"#000000\" stroke-opacity=\"0.000\" class=\"guide background\" id=\"img-9ddeccae-21\">\n",
       "      <rect x=\"18.63\" y=\"5\" width=\"153.21\" height=\"75.72\" id=\"img-9ddeccae-22\"/>\n",
       "    </g>\n",
       "    <g class=\"guide ygridlines xfixed\" stroke-dasharray=\"0.5,0.5\" stroke-width=\"0.2\" stroke=\"#D0D0E0\" id=\"img-9ddeccae-23\">\n",
       "      <path fill=\"none\" d=\"M18.63,78.71 L 171.84 78.71\" id=\"img-9ddeccae-24\"/>\n",
       "      <path fill=\"none\" d=\"M18.63,64.37 L 171.84 64.37\" id=\"img-9ddeccae-25\"/>\n",
       "      <path fill=\"none\" d=\"M18.63,50.03 L 171.84 50.03\" id=\"img-9ddeccae-26\"/>\n",
       "      <path fill=\"none\" d=\"M18.63,35.69 L 171.84 35.69\" id=\"img-9ddeccae-27\"/>\n",
       "      <path fill=\"none\" d=\"M18.63,21.34 L 171.84 21.34\" id=\"img-9ddeccae-28\"/>\n",
       "      <path fill=\"none\" d=\"M18.63,7 L 171.84 7\" id=\"img-9ddeccae-29\"/>\n",
       "    </g>\n",
       "    <g class=\"guide xgridlines yfixed\" stroke-dasharray=\"0.5,0.5\" stroke-width=\"0.2\" stroke=\"#D0D0E0\" id=\"img-9ddeccae-30\">\n",
       "      <path fill=\"none\" d=\"M49.27,5 L 49.27 80.72\" id=\"img-9ddeccae-31\"/>\n",
       "      <path fill=\"none\" d=\"M79.91,5 L 79.91 80.72\" id=\"img-9ddeccae-32\"/>\n",
       "      <path fill=\"none\" d=\"M110.56,5 L 110.56 80.72\" id=\"img-9ddeccae-33\"/>\n",
       "      <path fill=\"none\" d=\"M141.2,5 L 141.2 80.72\" id=\"img-9ddeccae-34\"/>\n",
       "    </g>\n",
       "    <g class=\"plotpanel\" id=\"img-9ddeccae-35\">\n",
       "      <g class=\"geometry\" stroke-width=\"0.3\" id=\"img-9ddeccae-36\">\n",
       "        <use xlink:href=\"#img-9ddeccae-37\" x=\"33.95\" y=\"28.99\" id=\"img-9ddeccae-38\" fill=\"#00BFFF\" stroke=\"#FFFFFF\"/>\n",
       "        <use xlink:href=\"#img-9ddeccae-37\" x=\"64.59\" y=\"75.85\" id=\"img-9ddeccae-39\" fill=\"#D4CA3A\" stroke=\"#FFFFFF\"/>\n",
       "        <use xlink:href=\"#img-9ddeccae-37\" x=\"64.59\" y=\"72.98\" id=\"img-9ddeccae-40\" fill=\"#D4CA3A\" stroke=\"#FFFFFF\"/>\n",
       "        <use xlink:href=\"#img-9ddeccae-37\" x=\"64.59\" y=\"65.81\" id=\"img-9ddeccae-41\" fill=\"#D4CA3A\" stroke=\"#FFFFFF\"/>\n",
       "        <use xlink:href=\"#img-9ddeccae-37\" x=\"64.59\" y=\"65.81\" id=\"img-9ddeccae-42\" fill=\"#D4CA3A\" stroke=\"#FFFFFF\"/>\n",
       "        <use xlink:href=\"#img-9ddeccae-37\" x=\"64.59\" y=\"64.37\" id=\"img-9ddeccae-43\" fill=\"#D4CA3A\" stroke=\"#FFFFFF\"/>\n",
       "        <use xlink:href=\"#img-9ddeccae-37\" x=\"64.59\" y=\"62.46\" id=\"img-9ddeccae-44\" fill=\"#D4CA3A\" stroke=\"#FFFFFF\"/>\n",
       "        <use xlink:href=\"#img-9ddeccae-37\" x=\"64.59\" y=\"61.5\" id=\"img-9ddeccae-45\" fill=\"#D4CA3A\" stroke=\"#FFFFFF\"/>\n",
       "        <use xlink:href=\"#img-9ddeccae-37\" x=\"64.59\" y=\"61.5\" id=\"img-9ddeccae-46\" fill=\"#D4CA3A\" stroke=\"#FFFFFF\"/>\n",
       "        <use xlink:href=\"#img-9ddeccae-37\" x=\"64.59\" y=\"60.55\" id=\"img-9ddeccae-47\" fill=\"#D4CA3A\" stroke=\"#FFFFFF\"/>\n",
       "        <use xlink:href=\"#img-9ddeccae-37\" x=\"95.24\" y=\"22.96\" id=\"img-9ddeccae-48\" fill=\"#FF5EA0\" stroke=\"#FFFFFF\"/>\n",
       "        <use xlink:href=\"#img-9ddeccae-37\" x=\"95.24\" y=\"21.39\" id=\"img-9ddeccae-49\" fill=\"#FF5EA0\" stroke=\"#FFFFFF\"/>\n",
       "        <use xlink:href=\"#img-9ddeccae-37\" x=\"95.24\" y=\"20.01\" id=\"img-9ddeccae-50\" fill=\"#FF5EA0\" stroke=\"#FFFFFF\"/>\n",
       "        <use xlink:href=\"#img-9ddeccae-37\" x=\"95.24\" y=\"20.01\" id=\"img-9ddeccae-51\" fill=\"#FF5EA0\" stroke=\"#FFFFFF\"/>\n",
       "        <use xlink:href=\"#img-9ddeccae-37\" x=\"95.24\" y=\"19.78\" id=\"img-9ddeccae-52\" fill=\"#FF5EA0\" stroke=\"#FFFFFF\"/>\n",
       "        <use xlink:href=\"#img-9ddeccae-37\" x=\"95.24\" y=\"19.6\" id=\"img-9ddeccae-53\" fill=\"#FF5EA0\" stroke=\"#FFFFFF\"/>\n",
       "        <use xlink:href=\"#img-9ddeccae-37\" x=\"95.24\" y=\"19.12\" id=\"img-9ddeccae-54\" fill=\"#FF5EA0\" stroke=\"#FFFFFF\"/>\n",
       "        <use xlink:href=\"#img-9ddeccae-37\" x=\"95.24\" y=\"18.87\" id=\"img-9ddeccae-55\" fill=\"#FF5EA0\" stroke=\"#FFFFFF\"/>\n",
       "        <use xlink:href=\"#img-9ddeccae-37\" x=\"95.24\" y=\"18.82\" id=\"img-9ddeccae-56\" fill=\"#FF5EA0\" stroke=\"#FFFFFF\"/>\n",
       "        <use xlink:href=\"#img-9ddeccae-37\" x=\"95.24\" y=\"18.56\" id=\"img-9ddeccae-57\" fill=\"#FF5EA0\" stroke=\"#FFFFFF\"/>\n",
       "        <use xlink:href=\"#img-9ddeccae-37\" x=\"95.24\" y=\"18.53\" id=\"img-9ddeccae-58\" fill=\"#FF5EA0\" stroke=\"#FFFFFF\"/>\n",
       "        <use xlink:href=\"#img-9ddeccae-37\" x=\"95.24\" y=\"18.34\" id=\"img-9ddeccae-59\" fill=\"#FF5EA0\" stroke=\"#FFFFFF\"/>\n",
       "        <use xlink:href=\"#img-9ddeccae-37\" x=\"95.24\" y=\"18.22\" id=\"img-9ddeccae-60\" fill=\"#FF5EA0\" stroke=\"#FFFFFF\"/>\n",
       "        <use xlink:href=\"#img-9ddeccae-37\" x=\"95.24\" y=\"18.13\" id=\"img-9ddeccae-61\" fill=\"#FF5EA0\" stroke=\"#FFFFFF\"/>\n",
       "        <use xlink:href=\"#img-9ddeccae-37\" x=\"95.24\" y=\"17.96\" id=\"img-9ddeccae-62\" fill=\"#FF5EA0\" stroke=\"#FFFFFF\"/>\n",
       "        <use xlink:href=\"#img-9ddeccae-37\" x=\"95.24\" y=\"17.84\" id=\"img-9ddeccae-63\" fill=\"#FF5EA0\" stroke=\"#FFFFFF\"/>\n",
       "        <use xlink:href=\"#img-9ddeccae-37\" x=\"95.24\" y=\"17.82\" id=\"img-9ddeccae-64\" fill=\"#FF5EA0\" stroke=\"#FFFFFF\"/>\n",
       "        <use xlink:href=\"#img-9ddeccae-37\" x=\"95.24\" y=\"17.77\" id=\"img-9ddeccae-65\" fill=\"#FF5EA0\" stroke=\"#FFFFFF\"/>\n",
       "        <use xlink:href=\"#img-9ddeccae-37\" x=\"95.24\" y=\"17.71\" id=\"img-9ddeccae-66\" fill=\"#FF5EA0\" stroke=\"#FFFFFF\"/>\n",
       "        <use xlink:href=\"#img-9ddeccae-37\" x=\"125.88\" y=\"70.11\" id=\"img-9ddeccae-67\" fill=\"#00E5B2\" stroke=\"#FFFFFF\"/>\n",
       "        <use xlink:href=\"#img-9ddeccae-37\" x=\"125.88\" y=\"55.77\" id=\"img-9ddeccae-68\" fill=\"#00E5B2\" stroke=\"#FFFFFF\"/>\n",
       "        <use xlink:href=\"#img-9ddeccae-37\" x=\"125.88\" y=\"51.94\" id=\"img-9ddeccae-69\" fill=\"#00E5B2\" stroke=\"#FFFFFF\"/>\n",
       "        <use xlink:href=\"#img-9ddeccae-37\" x=\"125.88\" y=\"51.46\" id=\"img-9ddeccae-70\" fill=\"#00E5B2\" stroke=\"#FFFFFF\"/>\n",
       "        <use xlink:href=\"#img-9ddeccae-37\" x=\"125.88\" y=\"49.46\" id=\"img-9ddeccae-71\" fill=\"#00E5B2\" stroke=\"#FFFFFF\"/>\n",
       "        <use xlink:href=\"#img-9ddeccae-37\" x=\"156.52\" y=\"57.13\" id=\"img-9ddeccae-72\" fill=\"#F6A6FF\" stroke=\"#FFFFFF\"/>\n",
       "        <use xlink:href=\"#img-9ddeccae-37\" x=\"156.52\" y=\"20.75\" id=\"img-9ddeccae-73\" fill=\"#F6A6FF\" stroke=\"#FFFFFF\"/>\n",
       "        <use xlink:href=\"#img-9ddeccae-37\" x=\"156.52\" y=\"20.64\" id=\"img-9ddeccae-74\" fill=\"#F6A6FF\" stroke=\"#FFFFFF\"/>\n",
       "        <rect x=\"19.13\" y=\"20.07\" width=\"29.64\" height=\"3.51\" id=\"img-9ddeccae-75\" fill=\"#00BFFF\" stroke=\"#00BFFF\"/>\n",
       "        <rect x=\"49.77\" y=\"31.86\" width=\"29.64\" height=\"11.33\" id=\"img-9ddeccae-76\" fill=\"#D4CA3A\" stroke=\"#D4CA3A\"/>\n",
       "        <rect x=\"80.41\" y=\"10.72\" width=\"29.64\" height=\"2.75\" id=\"img-9ddeccae-77\" fill=\"#FF5EA0\" stroke=\"#FF5EA0\"/>\n",
       "        <rect x=\"111.06\" y=\"20.69\" width=\"29.64\" height=\"11.35\" id=\"img-9ddeccae-78\" fill=\"#00E5B2\" stroke=\"#00E5B2\"/>\n",
       "        <rect x=\"141.7\" y=\"34.34\" width=\"29.64\" height=\"9.04\" id=\"img-9ddeccae-79\" fill=\"#F6A6FF\" stroke=\"#F6A6FF\"/>\n",
       "        <path fill=\"none\" d=\"M24.07,15.29 L 43.83 15.29\" id=\"img-9ddeccae-80\" stroke=\"#00BFFF\"/>\n",
       "        <path fill=\"none\" d=\"M54.71,18.47 L 74.47 18.47\" id=\"img-9ddeccae-81\" stroke=\"#D4CA3A\"/>\n",
       "        <path fill=\"none\" d=\"M85.36,7 L 105.12 7\" id=\"img-9ddeccae-82\" stroke=\"#FF5EA0\"/>\n",
       "        <path fill=\"none\" d=\"M116,11.78 L 135.76 11.78\" id=\"img-9ddeccae-83\" stroke=\"#00E5B2\"/>\n",
       "        <path fill=\"none\" d=\"M146.64,21.87 L 166.4 21.87\" id=\"img-9ddeccae-84\" stroke=\"#F6A6FF\"/>\n",
       "        <path fill=\"none\" d=\"M24.07,28.04 L 43.83 28.04\" id=\"img-9ddeccae-85\" stroke=\"#00BFFF\"/>\n",
       "        <path fill=\"none\" d=\"M54.71,60.07 L 74.47 60.07\" id=\"img-9ddeccae-86\" stroke=\"#D4CA3A\"/>\n",
       "        <path fill=\"none\" d=\"M85.36,17.57 L 105.12 17.57\" id=\"img-9ddeccae-87\" stroke=\"#FF5EA0\"/>\n",
       "        <path fill=\"none\" d=\"M116,48.8 L 135.76 48.8\" id=\"img-9ddeccae-88\" stroke=\"#00E5B2\"/>\n",
       "        <path fill=\"none\" d=\"M146.64,53.17 L 166.4 53.17\" id=\"img-9ddeccae-89\" stroke=\"#F6A6FF\"/>\n",
       "        <path fill=\"none\" d=\"M33.95,20.07 L 33.95 15.29\" id=\"img-9ddeccae-90\" stroke=\"#00BFFF\"/>\n",
       "        <path fill=\"none\" d=\"M64.59,31.86 L 64.59 18.47\" id=\"img-9ddeccae-91\" stroke=\"#D4CA3A\"/>\n",
       "        <path fill=\"none\" d=\"M95.24,10.72 L 95.24 7\" id=\"img-9ddeccae-92\" stroke=\"#FF5EA0\"/>\n",
       "        <path fill=\"none\" d=\"M125.88,20.69 L 125.88 11.78\" id=\"img-9ddeccae-93\" stroke=\"#00E5B2\"/>\n",
       "        <path fill=\"none\" d=\"M156.52,34.34 L 156.52 21.87\" id=\"img-9ddeccae-94\" stroke=\"#F6A6FF\"/>\n",
       "        <path fill=\"none\" d=\"M33.95,23.57 L 33.95 28.04\" id=\"img-9ddeccae-95\" stroke=\"#00BFFF\"/>\n",
       "        <path fill=\"none\" d=\"M64.59,43.19 L 64.59 60.07\" id=\"img-9ddeccae-96\" stroke=\"#D4CA3A\"/>\n",
       "        <path fill=\"none\" d=\"M95.24,13.47 L 95.24 17.57\" id=\"img-9ddeccae-97\" stroke=\"#FF5EA0\"/>\n",
       "        <path fill=\"none\" d=\"M125.88,32.04 L 125.88 48.8\" id=\"img-9ddeccae-98\" stroke=\"#00E5B2\"/>\n",
       "        <path fill=\"none\" d=\"M156.52,43.38 L 156.52 53.17\" id=\"img-9ddeccae-99\" stroke=\"#F6A6FF\"/>\n",
       "        <g stroke-width=\"0.6\" id=\"img-9ddeccae-100\">\n",
       "          <path fill=\"none\" d=\"M24.07,21.34 L 43.83 21.34\" id=\"img-9ddeccae-101\" stroke=\"#B5FFFF\"/>\n",
       "          <path fill=\"none\" d=\"M54.71,36.26 L 74.47 36.26\" id=\"img-9ddeccae-102\" stroke=\"#FFFFAB\"/>\n",
       "          <path fill=\"none\" d=\"M85.36,12.1 L 105.12 12.1\" id=\"img-9ddeccae-103\" stroke=\"#FFD2FF\"/>\n",
       "          <path fill=\"none\" d=\"M116,26.12 L 135.76 26.12\" id=\"img-9ddeccae-104\" stroke=\"#AFFFFF\"/>\n",
       "          <path fill=\"none\" d=\"M146.64,38.93 L 166.4 38.93\" id=\"img-9ddeccae-105\" stroke=\"#FFFFFF\"/>\n",
       "        </g>\n",
       "      </g>\n",
       "      <g class=\"xfixed\" stroke-dasharray=\"none\" stroke-width=\"0.3\" stroke=\"#000000\" id=\"img-9ddeccae-106\">\n",
       "        <path fill=\"none\" d=\"M18.63,35.69 L 171.84 35.69\" id=\"img-9ddeccae-107\"/>\n",
       "      </g>\n",
       "    </g>\n",
       "  </g>\n",
       "</g>\n",
       "  <g class=\"guide ylabels\" font-size=\"2.82\" font-family=\"'PT Sans Caption','Helvetica Neue','Helvetica',sans-serif\" fill=\"#6C606B\" id=\"img-9ddeccae-108\">\n",
       "    <text x=\"17.63\" y=\"78.71\" text-anchor=\"end\" dy=\"0.35em\" id=\"img-9ddeccae-109\">0.5</text>\n",
       "    <text x=\"17.63\" y=\"64.37\" text-anchor=\"end\" dy=\"0.35em\" id=\"img-9ddeccae-110\">0.6</text>\n",
       "    <text x=\"17.63\" y=\"50.03\" text-anchor=\"end\" dy=\"0.35em\" id=\"img-9ddeccae-111\">0.7</text>\n",
       "    <text x=\"17.63\" y=\"35.69\" text-anchor=\"end\" dy=\"0.35em\" id=\"img-9ddeccae-112\">0.8</text>\n",
       "    <text x=\"17.63\" y=\"21.34\" text-anchor=\"end\" dy=\"0.35em\" id=\"img-9ddeccae-113\">0.9</text>\n",
       "    <text x=\"17.63\" y=\"7\" text-anchor=\"end\" dy=\"0.35em\" id=\"img-9ddeccae-114\">1.0</text>\n",
       "  </g>\n",
       "  <g font-size=\"3.88\" font-family=\"'PT Sans','Helvetica Neue','Helvetica',sans-serif\" fill=\"#564A55\" stroke=\"#000000\" stroke-opacity=\"0.000\" id=\"img-9ddeccae-115\">\n",
       "    <text x=\"8.81\" y=\"40.86\" text-anchor=\"middle\" dy=\"0.35em\" transform=\"rotate(-90, 8.81, 42.86)\" id=\"img-9ddeccae-116\">pi0hat</text>\n",
       "  </g>\n",
       "</g>\n",
       "<defs>\n",
       "  <clipPath id=\"img-9ddeccae-19\">\n",
       "  <path d=\"M18.63,5 L 171.84 5 171.84 80.72 18.63 80.72\" />\n",
       "</clipPath>\n",
       "  <g id=\"img-9ddeccae-37\">\n",
       "    <circle cx=\"0\" cy=\"0\" r=\"0.9\" id=\"img-9ddeccae-117\"/>\n",
       "  </g>\n",
       "</defs>\n",
       "</svg>\n"
      ],
      "text/html": [
       "<?xml version=\"1.0\" encoding=\"UTF-8\"?>\n",
       "<svg xmlns=\"http://www.w3.org/2000/svg\"\n",
       "     xmlns:xlink=\"http://www.w3.org/1999/xlink\"\n",
       "     xmlns:gadfly=\"http://www.gadflyjl.org/ns\"\n",
       "     version=\"1.2\"\n",
       "     width=\"200mm\" height=\"100mm\" viewBox=\"0 0 200 100\"\n",
       "     stroke=\"none\"\n",
       "     fill=\"#000000\"\n",
       "     stroke-width=\"0.3\"\n",
       "     font-size=\"3.88\"\n",
       ">\n",
       "<g class=\"plotroot yscalable\" id=\"img-9ddeccae-1\">\n",
       "  <g font-size=\"3.88\" font-family=\"'PT Sans','Helvetica Neue','Helvetica',sans-serif\" fill=\"#564A55\" stroke=\"#000000\" stroke-opacity=\"0.000\" id=\"img-9ddeccae-2\">\n",
       "    <text x=\"95.24\" y=\"88.39\" text-anchor=\"middle\" dy=\"0.6em\">estimator</text>\n",
       "  </g>\n",
       "  <g class=\"guide xlabels\" font-size=\"2.82\" font-family=\"'PT Sans Caption','Helvetica Neue','Helvetica',sans-serif\" fill=\"#6C606B\" id=\"img-9ddeccae-3\">\n",
       "    <text x=\"33.95\" y=\"81.72\" text-anchor=\"middle\" dy=\"0.6em\">Storey</text>\n",
       "    <text x=\"64.59\" y=\"81.72\" text-anchor=\"middle\" dy=\"0.6em\">StoreyBootstrap</text>\n",
       "    <text x=\"95.24\" y=\"81.72\" text-anchor=\"middle\" dy=\"0.6em\">LeastSlope</text>\n",
       "    <text x=\"125.88\" y=\"81.72\" text-anchor=\"middle\" dy=\"0.6em\">RightBoundary</text>\n",
       "    <text x=\"156.52\" y=\"81.72\" text-anchor=\"middle\" dy=\"0.6em\">CensoredBUM</text>\n",
       "  </g>\n",
       "  <g class=\"guide colorkey\" id=\"img-9ddeccae-4\">\n",
       "    <g fill=\"#4C404B\" font-size=\"2.82\" font-family=\"'PT Sans','Helvetica Neue','Helvetica',sans-serif\" id=\"img-9ddeccae-5\">\n",
       "      <text x=\"175.65\" y=\"37.42\" dy=\"0.35em\" id=\"img-9ddeccae-6\" class=\"color_Storey\">Storey</text>\n",
       "      <text x=\"175.65\" y=\"41.04\" dy=\"0.35em\" id=\"img-9ddeccae-7\" class=\"color_StoreyBootstrap\">StoreyBootstrap</text>\n",
       "      <text x=\"175.65\" y=\"44.67\" dy=\"0.35em\" id=\"img-9ddeccae-8\" class=\"color_LeastSlope\">LeastSlope</text>\n",
       "      <text x=\"175.65\" y=\"48.3\" dy=\"0.35em\" id=\"img-9ddeccae-9\" class=\"color_RightBoundary\">RightBoundary</text>\n",
       "      <text x=\"175.65\" y=\"51.92\" dy=\"0.35em\" id=\"img-9ddeccae-10\" class=\"color_CensoredBUM\">CensoredBUM</text>\n",
       "    </g>\n",
       "    <g stroke=\"#000000\" stroke-opacity=\"0.000\" id=\"img-9ddeccae-11\">\n",
       "      <rect x=\"172.84\" y=\"36.51\" width=\"1.81\" height=\"1.81\" id=\"img-9ddeccae-12\" fill=\"#00BFFF\" class=\"color_Storey\"/>\n",
       "      <rect x=\"172.84\" y=\"40.14\" width=\"1.81\" height=\"1.81\" id=\"img-9ddeccae-13\" fill=\"#D4CA3A\" class=\"color_StoreyBootstrap\"/>\n",
       "      <rect x=\"172.84\" y=\"43.76\" width=\"1.81\" height=\"1.81\" id=\"img-9ddeccae-14\" fill=\"#FF5EA0\" class=\"color_LeastSlope\"/>\n",
       "      <rect x=\"172.84\" y=\"47.39\" width=\"1.81\" height=\"1.81\" id=\"img-9ddeccae-15\" fill=\"#00E5B2\" class=\"color_RightBoundary\"/>\n",
       "      <rect x=\"172.84\" y=\"51.02\" width=\"1.81\" height=\"1.81\" id=\"img-9ddeccae-16\" fill=\"#F6A6FF\" class=\"color_CensoredBUM\"/>\n",
       "    </g>\n",
       "    <g fill=\"#362A35\" font-size=\"3.88\" font-family=\"'PT Sans','Helvetica Neue','Helvetica',sans-serif\" stroke=\"#000000\" stroke-opacity=\"0.000\" id=\"img-9ddeccae-17\">\n",
       "      <text x=\"172.84\" y=\"33.6\" id=\"img-9ddeccae-18\">estimator</text>\n",
       "    </g>\n",
       "  </g>\n",
       "<g clip-path=\"url(#img-9ddeccae-19)\">\n",
       "  <g id=\"img-9ddeccae-20\">\n",
       "    <g pointer-events=\"visible\" opacity=\"1\" fill=\"#000000\" fill-opacity=\"0.000\" stroke=\"#000000\" stroke-opacity=\"0.000\" class=\"guide background\" id=\"img-9ddeccae-21\">\n",
       "      <rect x=\"18.63\" y=\"5\" width=\"153.21\" height=\"75.72\" id=\"img-9ddeccae-22\"/>\n",
       "    </g>\n",
       "    <g class=\"guide ygridlines xfixed\" stroke-dasharray=\"0.5,0.5\" stroke-width=\"0.2\" stroke=\"#D0D0E0\" id=\"img-9ddeccae-23\">\n",
       "      <path fill=\"none\" d=\"M18.63,78.71 L 171.84 78.71\" id=\"img-9ddeccae-24\"/>\n",
       "      <path fill=\"none\" d=\"M18.63,64.37 L 171.84 64.37\" id=\"img-9ddeccae-25\"/>\n",
       "      <path fill=\"none\" d=\"M18.63,50.03 L 171.84 50.03\" id=\"img-9ddeccae-26\"/>\n",
       "      <path fill=\"none\" d=\"M18.63,35.69 L 171.84 35.69\" id=\"img-9ddeccae-27\"/>\n",
       "      <path fill=\"none\" d=\"M18.63,21.34 L 171.84 21.34\" id=\"img-9ddeccae-28\"/>\n",
       "      <path fill=\"none\" d=\"M18.63,7 L 171.84 7\" id=\"img-9ddeccae-29\"/>\n",
       "    </g>\n",
       "    <g class=\"guide xgridlines yfixed\" stroke-dasharray=\"0.5,0.5\" stroke-width=\"0.2\" stroke=\"#D0D0E0\" id=\"img-9ddeccae-30\">\n",
       "      <path fill=\"none\" d=\"M49.27,5 L 49.27 80.72\" id=\"img-9ddeccae-31\"/>\n",
       "      <path fill=\"none\" d=\"M79.91,5 L 79.91 80.72\" id=\"img-9ddeccae-32\"/>\n",
       "      <path fill=\"none\" d=\"M110.56,5 L 110.56 80.72\" id=\"img-9ddeccae-33\"/>\n",
       "      <path fill=\"none\" d=\"M141.2,5 L 141.2 80.72\" id=\"img-9ddeccae-34\"/>\n",
       "    </g>\n",
       "    <g class=\"plotpanel\" id=\"img-9ddeccae-35\">\n",
       "      <g class=\"geometry\" stroke-width=\"0.3\" id=\"img-9ddeccae-36\">\n",
       "        <use xlink:href=\"#img-9ddeccae-37\" x=\"33.95\" y=\"28.99\" id=\"img-9ddeccae-38\" fill=\"#00BFFF\" stroke=\"#FFFFFF\"/>\n",
       "        <use xlink:href=\"#img-9ddeccae-37\" x=\"64.59\" y=\"75.85\" id=\"img-9ddeccae-39\" fill=\"#D4CA3A\" stroke=\"#FFFFFF\"/>\n",
       "        <use xlink:href=\"#img-9ddeccae-37\" x=\"64.59\" y=\"72.98\" id=\"img-9ddeccae-40\" fill=\"#D4CA3A\" stroke=\"#FFFFFF\"/>\n",
       "        <use xlink:href=\"#img-9ddeccae-37\" x=\"64.59\" y=\"65.81\" id=\"img-9ddeccae-41\" fill=\"#D4CA3A\" stroke=\"#FFFFFF\"/>\n",
       "        <use xlink:href=\"#img-9ddeccae-37\" x=\"64.59\" y=\"65.81\" id=\"img-9ddeccae-42\" fill=\"#D4CA3A\" stroke=\"#FFFFFF\"/>\n",
       "        <use xlink:href=\"#img-9ddeccae-37\" x=\"64.59\" y=\"64.37\" id=\"img-9ddeccae-43\" fill=\"#D4CA3A\" stroke=\"#FFFFFF\"/>\n",
       "        <use xlink:href=\"#img-9ddeccae-37\" x=\"64.59\" y=\"62.46\" id=\"img-9ddeccae-44\" fill=\"#D4CA3A\" stroke=\"#FFFFFF\"/>\n",
       "        <use xlink:href=\"#img-9ddeccae-37\" x=\"64.59\" y=\"61.5\" id=\"img-9ddeccae-45\" fill=\"#D4CA3A\" stroke=\"#FFFFFF\"/>\n",
       "        <use xlink:href=\"#img-9ddeccae-37\" x=\"64.59\" y=\"61.5\" id=\"img-9ddeccae-46\" fill=\"#D4CA3A\" stroke=\"#FFFFFF\"/>\n",
       "        <use xlink:href=\"#img-9ddeccae-37\" x=\"64.59\" y=\"60.55\" id=\"img-9ddeccae-47\" fill=\"#D4CA3A\" stroke=\"#FFFFFF\"/>\n",
       "        <use xlink:href=\"#img-9ddeccae-37\" x=\"95.24\" y=\"22.96\" id=\"img-9ddeccae-48\" fill=\"#FF5EA0\" stroke=\"#FFFFFF\"/>\n",
       "        <use xlink:href=\"#img-9ddeccae-37\" x=\"95.24\" y=\"21.39\" id=\"img-9ddeccae-49\" fill=\"#FF5EA0\" stroke=\"#FFFFFF\"/>\n",
       "        <use xlink:href=\"#img-9ddeccae-37\" x=\"95.24\" y=\"20.01\" id=\"img-9ddeccae-50\" fill=\"#FF5EA0\" stroke=\"#FFFFFF\"/>\n",
       "        <use xlink:href=\"#img-9ddeccae-37\" x=\"95.24\" y=\"20.01\" id=\"img-9ddeccae-51\" fill=\"#FF5EA0\" stroke=\"#FFFFFF\"/>\n",
       "        <use xlink:href=\"#img-9ddeccae-37\" x=\"95.24\" y=\"19.78\" id=\"img-9ddeccae-52\" fill=\"#FF5EA0\" stroke=\"#FFFFFF\"/>\n",
       "        <use xlink:href=\"#img-9ddeccae-37\" x=\"95.24\" y=\"19.6\" id=\"img-9ddeccae-53\" fill=\"#FF5EA0\" stroke=\"#FFFFFF\"/>\n",
       "        <use xlink:href=\"#img-9ddeccae-37\" x=\"95.24\" y=\"19.12\" id=\"img-9ddeccae-54\" fill=\"#FF5EA0\" stroke=\"#FFFFFF\"/>\n",
       "        <use xlink:href=\"#img-9ddeccae-37\" x=\"95.24\" y=\"18.87\" id=\"img-9ddeccae-55\" fill=\"#FF5EA0\" stroke=\"#FFFFFF\"/>\n",
       "        <use xlink:href=\"#img-9ddeccae-37\" x=\"95.24\" y=\"18.82\" id=\"img-9ddeccae-56\" fill=\"#FF5EA0\" stroke=\"#FFFFFF\"/>\n",
       "        <use xlink:href=\"#img-9ddeccae-37\" x=\"95.24\" y=\"18.56\" id=\"img-9ddeccae-57\" fill=\"#FF5EA0\" stroke=\"#FFFFFF\"/>\n",
       "        <use xlink:href=\"#img-9ddeccae-37\" x=\"95.24\" y=\"18.53\" id=\"img-9ddeccae-58\" fill=\"#FF5EA0\" stroke=\"#FFFFFF\"/>\n",
       "        <use xlink:href=\"#img-9ddeccae-37\" x=\"95.24\" y=\"18.34\" id=\"img-9ddeccae-59\" fill=\"#FF5EA0\" stroke=\"#FFFFFF\"/>\n",
       "        <use xlink:href=\"#img-9ddeccae-37\" x=\"95.24\" y=\"18.22\" id=\"img-9ddeccae-60\" fill=\"#FF5EA0\" stroke=\"#FFFFFF\"/>\n",
       "        <use xlink:href=\"#img-9ddeccae-37\" x=\"95.24\" y=\"18.13\" id=\"img-9ddeccae-61\" fill=\"#FF5EA0\" stroke=\"#FFFFFF\"/>\n",
       "        <use xlink:href=\"#img-9ddeccae-37\" x=\"95.24\" y=\"17.96\" id=\"img-9ddeccae-62\" fill=\"#FF5EA0\" stroke=\"#FFFFFF\"/>\n",
       "        <use xlink:href=\"#img-9ddeccae-37\" x=\"95.24\" y=\"17.84\" id=\"img-9ddeccae-63\" fill=\"#FF5EA0\" stroke=\"#FFFFFF\"/>\n",
       "        <use xlink:href=\"#img-9ddeccae-37\" x=\"95.24\" y=\"17.82\" id=\"img-9ddeccae-64\" fill=\"#FF5EA0\" stroke=\"#FFFFFF\"/>\n",
       "        <use xlink:href=\"#img-9ddeccae-37\" x=\"95.24\" y=\"17.77\" id=\"img-9ddeccae-65\" fill=\"#FF5EA0\" stroke=\"#FFFFFF\"/>\n",
       "        <use xlink:href=\"#img-9ddeccae-37\" x=\"95.24\" y=\"17.71\" id=\"img-9ddeccae-66\" fill=\"#FF5EA0\" stroke=\"#FFFFFF\"/>\n",
       "        <use xlink:href=\"#img-9ddeccae-37\" x=\"125.88\" y=\"70.11\" id=\"img-9ddeccae-67\" fill=\"#00E5B2\" stroke=\"#FFFFFF\"/>\n",
       "        <use xlink:href=\"#img-9ddeccae-37\" x=\"125.88\" y=\"55.77\" id=\"img-9ddeccae-68\" fill=\"#00E5B2\" stroke=\"#FFFFFF\"/>\n",
       "        <use xlink:href=\"#img-9ddeccae-37\" x=\"125.88\" y=\"51.94\" id=\"img-9ddeccae-69\" fill=\"#00E5B2\" stroke=\"#FFFFFF\"/>\n",
       "        <use xlink:href=\"#img-9ddeccae-37\" x=\"125.88\" y=\"51.46\" id=\"img-9ddeccae-70\" fill=\"#00E5B2\" stroke=\"#FFFFFF\"/>\n",
       "        <use xlink:href=\"#img-9ddeccae-37\" x=\"125.88\" y=\"49.46\" id=\"img-9ddeccae-71\" fill=\"#00E5B2\" stroke=\"#FFFFFF\"/>\n",
       "        <use xlink:href=\"#img-9ddeccae-37\" x=\"156.52\" y=\"57.13\" id=\"img-9ddeccae-72\" fill=\"#F6A6FF\" stroke=\"#FFFFFF\"/>\n",
       "        <use xlink:href=\"#img-9ddeccae-37\" x=\"156.52\" y=\"20.75\" id=\"img-9ddeccae-73\" fill=\"#F6A6FF\" stroke=\"#FFFFFF\"/>\n",
       "        <use xlink:href=\"#img-9ddeccae-37\" x=\"156.52\" y=\"20.64\" id=\"img-9ddeccae-74\" fill=\"#F6A6FF\" stroke=\"#FFFFFF\"/>\n",
       "        <rect x=\"19.13\" y=\"20.07\" width=\"29.64\" height=\"3.51\" id=\"img-9ddeccae-75\" fill=\"#00BFFF\" stroke=\"#00BFFF\"/>\n",
       "        <rect x=\"49.77\" y=\"31.86\" width=\"29.64\" height=\"11.33\" id=\"img-9ddeccae-76\" fill=\"#D4CA3A\" stroke=\"#D4CA3A\"/>\n",
       "        <rect x=\"80.41\" y=\"10.72\" width=\"29.64\" height=\"2.75\" id=\"img-9ddeccae-77\" fill=\"#FF5EA0\" stroke=\"#FF5EA0\"/>\n",
       "        <rect x=\"111.06\" y=\"20.69\" width=\"29.64\" height=\"11.35\" id=\"img-9ddeccae-78\" fill=\"#00E5B2\" stroke=\"#00E5B2\"/>\n",
       "        <rect x=\"141.7\" y=\"34.34\" width=\"29.64\" height=\"9.04\" id=\"img-9ddeccae-79\" fill=\"#F6A6FF\" stroke=\"#F6A6FF\"/>\n",
       "        <path fill=\"none\" d=\"M24.07,15.29 L 43.83 15.29\" id=\"img-9ddeccae-80\" stroke=\"#00BFFF\"/>\n",
       "        <path fill=\"none\" d=\"M54.71,18.47 L 74.47 18.47\" id=\"img-9ddeccae-81\" stroke=\"#D4CA3A\"/>\n",
       "        <path fill=\"none\" d=\"M85.36,7 L 105.12 7\" id=\"img-9ddeccae-82\" stroke=\"#FF5EA0\"/>\n",
       "        <path fill=\"none\" d=\"M116,11.78 L 135.76 11.78\" id=\"img-9ddeccae-83\" stroke=\"#00E5B2\"/>\n",
       "        <path fill=\"none\" d=\"M146.64,21.87 L 166.4 21.87\" id=\"img-9ddeccae-84\" stroke=\"#F6A6FF\"/>\n",
       "        <path fill=\"none\" d=\"M24.07,28.04 L 43.83 28.04\" id=\"img-9ddeccae-85\" stroke=\"#00BFFF\"/>\n",
       "        <path fill=\"none\" d=\"M54.71,60.07 L 74.47 60.07\" id=\"img-9ddeccae-86\" stroke=\"#D4CA3A\"/>\n",
       "        <path fill=\"none\" d=\"M85.36,17.57 L 105.12 17.57\" id=\"img-9ddeccae-87\" stroke=\"#FF5EA0\"/>\n",
       "        <path fill=\"none\" d=\"M116,48.8 L 135.76 48.8\" id=\"img-9ddeccae-88\" stroke=\"#00E5B2\"/>\n",
       "        <path fill=\"none\" d=\"M146.64,53.17 L 166.4 53.17\" id=\"img-9ddeccae-89\" stroke=\"#F6A6FF\"/>\n",
       "        <path fill=\"none\" d=\"M33.95,20.07 L 33.95 15.29\" id=\"img-9ddeccae-90\" stroke=\"#00BFFF\"/>\n",
       "        <path fill=\"none\" d=\"M64.59,31.86 L 64.59 18.47\" id=\"img-9ddeccae-91\" stroke=\"#D4CA3A\"/>\n",
       "        <path fill=\"none\" d=\"M95.24,10.72 L 95.24 7\" id=\"img-9ddeccae-92\" stroke=\"#FF5EA0\"/>\n",
       "        <path fill=\"none\" d=\"M125.88,20.69 L 125.88 11.78\" id=\"img-9ddeccae-93\" stroke=\"#00E5B2\"/>\n",
       "        <path fill=\"none\" d=\"M156.52,34.34 L 156.52 21.87\" id=\"img-9ddeccae-94\" stroke=\"#F6A6FF\"/>\n",
       "        <path fill=\"none\" d=\"M33.95,23.57 L 33.95 28.04\" id=\"img-9ddeccae-95\" stroke=\"#00BFFF\"/>\n",
       "        <path fill=\"none\" d=\"M64.59,43.19 L 64.59 60.07\" id=\"img-9ddeccae-96\" stroke=\"#D4CA3A\"/>\n",
       "        <path fill=\"none\" d=\"M95.24,13.47 L 95.24 17.57\" id=\"img-9ddeccae-97\" stroke=\"#FF5EA0\"/>\n",
       "        <path fill=\"none\" d=\"M125.88,32.04 L 125.88 48.8\" id=\"img-9ddeccae-98\" stroke=\"#00E5B2\"/>\n",
       "        <path fill=\"none\" d=\"M156.52,43.38 L 156.52 53.17\" id=\"img-9ddeccae-99\" stroke=\"#F6A6FF\"/>\n",
       "        <g stroke-width=\"0.6\" id=\"img-9ddeccae-100\">\n",
       "          <path fill=\"none\" d=\"M24.07,21.34 L 43.83 21.34\" id=\"img-9ddeccae-101\" stroke=\"#B5FFFF\"/>\n",
       "          <path fill=\"none\" d=\"M54.71,36.26 L 74.47 36.26\" id=\"img-9ddeccae-102\" stroke=\"#FFFFAB\"/>\n",
       "          <path fill=\"none\" d=\"M85.36,12.1 L 105.12 12.1\" id=\"img-9ddeccae-103\" stroke=\"#FFD2FF\"/>\n",
       "          <path fill=\"none\" d=\"M116,26.12 L 135.76 26.12\" id=\"img-9ddeccae-104\" stroke=\"#AFFFFF\"/>\n",
       "          <path fill=\"none\" d=\"M146.64,38.93 L 166.4 38.93\" id=\"img-9ddeccae-105\" stroke=\"#FFFFFF\"/>\n",
       "        </g>\n",
       "      </g>\n",
       "      <g class=\"xfixed\" stroke-dasharray=\"none\" stroke-width=\"0.3\" stroke=\"#000000\" id=\"img-9ddeccae-106\">\n",
       "        <path fill=\"none\" d=\"M18.63,35.69 L 171.84 35.69\" id=\"img-9ddeccae-107\"/>\n",
       "      </g>\n",
       "    </g>\n",
       "  </g>\n",
       "</g>\n",
       "  <g class=\"guide ylabels\" font-size=\"2.82\" font-family=\"'PT Sans Caption','Helvetica Neue','Helvetica',sans-serif\" fill=\"#6C606B\" id=\"img-9ddeccae-108\">\n",
       "    <text x=\"17.63\" y=\"78.71\" text-anchor=\"end\" dy=\"0.35em\" id=\"img-9ddeccae-109\">0.5</text>\n",
       "    <text x=\"17.63\" y=\"64.37\" text-anchor=\"end\" dy=\"0.35em\" id=\"img-9ddeccae-110\">0.6</text>\n",
       "    <text x=\"17.63\" y=\"50.03\" text-anchor=\"end\" dy=\"0.35em\" id=\"img-9ddeccae-111\">0.7</text>\n",
       "    <text x=\"17.63\" y=\"35.69\" text-anchor=\"end\" dy=\"0.35em\" id=\"img-9ddeccae-112\">0.8</text>\n",
       "    <text x=\"17.63\" y=\"21.34\" text-anchor=\"end\" dy=\"0.35em\" id=\"img-9ddeccae-113\">0.9</text>\n",
       "    <text x=\"17.63\" y=\"7\" text-anchor=\"end\" dy=\"0.35em\" id=\"img-9ddeccae-114\">1.0</text>\n",
       "  </g>\n",
       "  <g font-size=\"3.88\" font-family=\"'PT Sans','Helvetica Neue','Helvetica',sans-serif\" fill=\"#564A55\" stroke=\"#000000\" stroke-opacity=\"0.000\" id=\"img-9ddeccae-115\">\n",
       "    <text x=\"8.81\" y=\"40.86\" text-anchor=\"middle\" dy=\"0.35em\" transform=\"rotate(-90, 8.81, 42.86)\" id=\"img-9ddeccae-116\">pi0hat</text>\n",
       "  </g>\n",
       "</g>\n",
       "<defs>\n",
       "  <clipPath id=\"img-9ddeccae-19\">\n",
       "  <path d=\"M18.63,5 L 171.84 5 171.84 80.72 18.63 80.72\" />\n",
       "</clipPath>\n",
       "  <g id=\"img-9ddeccae-37\">\n",
       "    <circle cx=\"0\" cy=\"0\" r=\"0.9\" id=\"img-9ddeccae-117\"/>\n",
       "  </g>\n",
       "</defs>\n",
       "</svg>\n"
      ],
      "text/plain": [
       "Compose.SVG(200.0mm,100.0mm,IOBuffer(data=UInt8[...], readable=true, writable=true, seekable=true, append=false, size=13285, maxsize=Inf, ptr=13286, mark=-1),nothing,\"img-9ddeccae\",0,Compose.SVGPropertyFrame[],Dict{Type{T},Union{Compose.Property{P<:Compose.PropertyPrimitive},Void}}(Compose.Property{Compose.FillPrimitive}=>nothing,Compose.Property{Compose.StrokePrimitive}=>nothing,Compose.Property{Compose.JSCallPrimitive}=>nothing,Compose.Property{Compose.SVGClassPrimitive}=>nothing),Dict{Compose.ClipPrimitive{P<:NTuple{N,Measures.Measure}},ASCIIString}(Compose.ClipPrimitive{Tuple{Measures.Length{:mm,Float64},Measures.Length{:mm,Float64}}}([(18.63166666666666mm,5.0mm),(171.83999999999997mm,5.0mm),(171.83999999999997mm,80.715mm),(18.63166666666666mm,80.715mm)])=>\"img-9ddeccae-19\"),Tuple{Compose.FormPrimitive,ASCIIString}[(Compose.CirclePrimitive{Tuple{Measures.Length{:mm,Float64},Measures.Length{:mm,Float64}},Measures.Length{:mm,Float64}}((0.0mm,0.0mm),0.9mm),\"img-9ddeccae-37\")],Set{AbstractString}(),true,false,nothing,true,\"img-9ddeccae-117\",false,117,AbstractString[\"/home/julian/.julia/v0.4/Gadfly/src/gadfly.js\"],Tuple{AbstractString,AbstractString}[(\"Snap.svg\",\"Snap\"),(\"Gadfly\",\"Gadfly\")],AbstractString[\"fig.select(\\\"#img-9ddeccae-4\\\")\\n   .drag(function() {}, function() {}, function() {});\",\"fig.select(\\\"#img-9ddeccae-6\\\")\\n   .data(\\\"color_class\\\", \\\"color_Storey\\\")\\n.click(Gadfly.colorkey_swatch_click)\\n;\",\"fig.select(\\\"#img-9ddeccae-7\\\")\\n   .data(\\\"color_class\\\", \\\"color_StoreyBootstrap\\\")\\n.click(Gadfly.colorkey_swatch_click)\\n;\",\"fig.select(\\\"#img-9ddeccae-8\\\")\\n   .data(\\\"color_class\\\", \\\"color_LeastSlope\\\")\\n.click(Gadfly.colorkey_swatch_click)\\n;\",\"fig.select(\\\"#img-9ddeccae-9\\\")\\n   .data(\\\"color_class\\\", \\\"color_RightBoundary\\\")\\n.click(Gadfly.colorkey_swatch_click)\\n;\",\"fig.select(\\\"#img-9ddeccae-10\\\")\\n   .data(\\\"color_class\\\", \\\"color_CensoredBUM\\\")\\n.click(Gadfly.colorkey_swatch_click)\\n;\",\"fig.select(\\\"#img-9ddeccae-12\\\")\\n   .data(\\\"color_class\\\", \\\"color_Storey\\\")\\n.click(Gadfly.colorkey_swatch_click)\\n;\",\"fig.select(\\\"#img-9ddeccae-13\\\")\\n   .data(\\\"color_class\\\", \\\"color_StoreyBootstrap\\\")\\n.click(Gadfly.colorkey_swatch_click)\\n;\",\"fig.select(\\\"#img-9ddeccae-14\\\")\\n   .data(\\\"color_class\\\", \\\"color_LeastSlope\\\")\\n.click(Gadfly.colorkey_swatch_click)\\n;\",\"fig.select(\\\"#img-9ddeccae-15\\\")\\n   .data(\\\"color_class\\\", \\\"color_RightBoundary\\\")\\n.click(Gadfly.colorkey_swatch_click)\\n;\",\"fig.select(\\\"#img-9ddeccae-16\\\")\\n   .data(\\\"color_class\\\", \\\"color_CensoredBUM\\\")\\n.click(Gadfly.colorkey_swatch_click)\\n;\",\"fig.select(\\\"#img-9ddeccae-20\\\")\\n   .init_gadfly();\"],false,:none)"
      ]
     },
     "metadata": {},
     "output_type": "display_data"
    }
   ],
   "source": [
    "p = plot(\n",
    "    layer(yintercept = [pi0], Geom.hline(color = colorant\"black\")),\n",
    "    layer(df, x = \"estimator\", y = \"pi0hat\", color = \"estimator\", Geom.boxplot)\n",
    ")\n",
    "draw(SVG(20cm, 10cm), p)"
   ]
  },
  {
   "cell_type": "markdown",
   "metadata": {
    "collapsed": true
   },
   "source": [
    "Visualizing the estimated π0 for the three estimators shows us a typical bias-variance tradeoff: The bootstrap has the smallest bias with regard to the true value (black horizontal line), but exhibits the largest variablity. In contrast, the least slope estimator has the lowest spread, while clearly overestimating π0."
   ]
  }
 ],
 "metadata": {
  "kernelspec": {
   "display_name": "Julia 0.4.2",
   "language": "julia",
   "name": "julia-0.4"
  },
  "language_info": {
   "file_extension": ".jl",
   "mimetype": "application/julia",
   "name": "julia",
   "version": "0.4.2"
  }
 },
 "nbformat": 4,
 "nbformat_minor": 0
}
