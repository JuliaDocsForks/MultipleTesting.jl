{
 "cells": [
  {
   "cell_type": "markdown",
   "metadata": {},
   "source": [
    "# Comparing estimators for π0"
   ]
  },
  {
   "cell_type": "markdown",
   "metadata": {},
   "source": [
    "## Setting the scene"
   ]
  },
  {
   "cell_type": "code",
   "execution_count": 1,
   "metadata": {
    "collapsed": false
   },
   "outputs": [],
   "source": [
    "using MultipleTesting"
   ]
  },
  {
   "cell_type": "code",
   "execution_count": 2,
   "metadata": {
    "collapsed": false
   },
   "outputs": [],
   "source": [
    "using Distributions\n",
    "using DataFrames\n",
    "using Gadfly\n",
    "using Compose"
   ]
  },
  {
   "cell_type": "markdown",
   "metadata": {},
   "source": [
    "## Simulation"
   ]
  },
  {
   "cell_type": "markdown",
   "metadata": {},
   "source": [
    "We will simulate p-values under the null and alternative hypothesis by drawing from random variable distributions. For the null hypothesis, p-values are uniformly distributed in the interval [0,1]; p-values under the alternative hypothesis are modelled by a Beta distribution with a momotonically decreasing density."
   ]
  },
  {
   "cell_type": "code",
   "execution_count": 3,
   "metadata": {
    "collapsed": false
   },
   "outputs": [
    {
     "data": {
      "text/plain": [
       "MixtureModel{Distributions.Distribution{Distributions.Univariate,Distributions.Continuous}}(K = 2)\n",
       "components[1] (prior = 0.3000): Distributions.Beta(α=0.5, β=3.0)\n",
       "components[2] (prior = 0.7000): Distributions.Uniform(a=0.0, b=1.0)\n"
      ]
     },
     "execution_count": 3,
     "metadata": {},
     "output_type": "execute_result"
    }
   ],
   "source": [
    "π0 = 0.7\n",
    "bum = BetaUniformMixtureModel(π0, 0.5, 3.0)"
   ]
  },
  {
   "cell_type": "code",
   "execution_count": 4,
   "metadata": {
    "collapsed": false
   },
   "outputs": [],
   "source": [
    "h1, h0 = components(bum);"
   ]
  },
  {
   "cell_type": "code",
   "execution_count": 5,
   "metadata": {
    "collapsed": false
   },
   "outputs": [
    {
     "data": {
      "text/plain": [
       "linspace(0.01,1.0,200)"
      ]
     },
     "execution_count": 5,
     "metadata": {},
     "output_type": "execute_result"
    }
   ],
   "source": [
    "x = linspace(0.01, 1.0, 200)"
   ]
  },
  {
   "cell_type": "code",
   "execution_count": 6,
   "metadata": {
    "collapsed": false
   },
   "outputs": [
    {
     "data": {
      "image/png": "[encoded data removed]",
      "text/plain": [
       "Compose.Image{Compose.PNGBackend}(IOBuffer(data=UInt8[...], readable=true, writable=true, seekable=true, append=false, size=24981, maxsize=Inf, ptr=24982, mark=-1),Cairo.CairoSurface(Ptr{Void} @0x0000000000000000,756.0,378.0,#undef),Cairo.CairoContext(Ptr{Void} @0x0000000000000000,Cairo.CairoSurface(Ptr{Void} @0x0000000000000000,756.0,378.0,#undef),Ptr{Void} @0x00007fa869e228d0),755.9055118110236,377.9527559055118,RGBA{Float64}(0.0,0.0,0.0,0.0),RGBA{Float64}(0.0,0.0,0.0,1.0),Float64[],Compose.LineCapButt(),Compose.LineJoinMiter(),true,0.3mm,3.880555555555555mm,\"Helvetica Neue,Helvetica,Arial,sans\",Nullable{Compose.ClipPrimitive{P<:NTuple{N,Measures.Measure}}}(),Compose.ImagePropertyState[],Compose.ImagePropertyFrame[],Dict{Type{T},Nullable{Compose.Property{P<:Compose.PropertyPrimitive}}}(),true,false,nothing,true,true,3.7795275590551185,Nullable{Tuple{Measures.Length{:mm,Float64},Measures.Length{:mm,Float64}}}(),Nullable{Tuple{Measures.Length{:mm,Float64},Measures.Length{:mm,Float64}}}())"
      ]
     },
     "metadata": {},
     "output_type": "display_data"
    }
   ],
   "source": [
    "p = plot(\n",
    "    layer(x = x, y = pdf(bum, x), Geom.line),\n",
    "    layer(x = x, y = pdf(h0, x), Geom.line, Theme(default_color = colorant\"darkgreen\")),\n",
    "    layer(x = x, y = pdf(h1, x), Geom.line, Theme(default_color = colorant\"darkred\")),\n",
    "    Guide.xlabel(\"p-value\"), Guide.ylabel(\"density\")\n",
    ")\n",
    "draw(PNG(20cm, 10cm), p)"
   ]
  },
  {
   "cell_type": "markdown",
   "metadata": {},
   "source": [
    "## Assessment of π0 estimators"
   ]
  },
  {
   "cell_type": "markdown",
   "metadata": {},
   "source": [
    "We assess the performance of three estimators for π0, the fraction of tests under the null hypothesis. Here, we compare different estimators. Using the mixture model from above, we simulate p-values with a true π0 of 0.8, i.e. 20% of the p-values come from the alternative model."
   ]
  },
  {
   "cell_type": "code",
   "execution_count": 7,
   "metadata": {
    "collapsed": true
   },
   "outputs": [],
   "source": [
    "estimators = [\"Storey\",\n",
    "              \"StoreyBootstrap\",\n",
    "              \"LeastSlope\",\n",
    "              \"TwoStep\",\n",
    "              \"RightBoundary\",\n",
    "              \"CensoredBUM\",\n",
    "              \"BUM\",\n",
    "              \"FlatGrenander\"];"
   ]
  },
  {
   "cell_type": "code",
   "execution_count": 8,
   "metadata": {
    "collapsed": false
   },
   "outputs": [
    {
     "data": {
      "text/plain": [
       "500"
      ]
     },
     "execution_count": 8,
     "metadata": {},
     "output_type": "execute_result"
    }
   ],
   "source": [
    "m = 500"
   ]
  },
  {
   "cell_type": "code",
   "execution_count": 9,
   "metadata": {
    "code_folding": [],
    "collapsed": false,
    "hide_input": false
   },
   "outputs": [],
   "source": [
    "pi0hat = zeros(m, length(estimators))\n",
    "for i in 1:m\n",
    "    pvals = rand(bum, m)\n",
    "    for (j, e) in enumerate(estimators)\n",
    "        pi0estimator = call(eval(parse(e)))\n",
    "        pi0hat[i,j] = estimate_pi0(pvals, pi0estimator)\n",
    "    end\n",
    "end"
   ]
  },
  {
   "cell_type": "code",
   "execution_count": 10,
   "metadata": {
    "collapsed": false
   },
   "outputs": [],
   "source": [
    "df = convert(DataFrame, pi0hat)\n",
    "names!(df, map(symbol, estimators))\n",
    "df = stack(df, collect(1:length(estimators)))\n",
    "names!(df, [:estimator, :pi0hat]);"
   ]
  },
  {
   "cell_type": "code",
   "execution_count": null,
   "metadata": {
    "collapsed": false
   },
   "outputs": [],
   "source": [
    "p = plot(\n",
    "    layer(yintercept = [π0], Geom.hline(color = colorant\"black\")),\n",
    "    layer(df, x = \"estimator\", y = \"pi0hat\", color = \"estimator\", Geom.boxplot)\n",
    ")\n",
    "draw(PNG(20cm, 10cm), p)"
   ]
  },
  {
   "cell_type": "markdown",
   "metadata": {
    "collapsed": true
   },
   "source": [
    "Visualizing the estimated π0 for the three estimators shows us a typical bias-variance tradeoff: The bootstrap has a small bias with regard to the true value (black horizontal line), but exhibits a large degree of variablity. In contrast, the two step estimator has the lowest spread, while clearly overestimating π0."
   ]
  }
 ],
 "metadata": {
  "hide_input": false,
  "kernelspec": {
   "display_name": "Julia 0.4.3",
   "language": "julia",
   "name": "julia-0.4"
  },
  "language_info": {
   "file_extension": ".jl",
   "mimetype": "application/julia",
   "name": "julia",
   "version": "0.4.3"
  }
 },
 "nbformat": 4,
 "nbformat_minor": 0
}
